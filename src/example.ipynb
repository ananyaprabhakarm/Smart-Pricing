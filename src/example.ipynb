{
 "cells": [
  {
   "cell_type": "markdown",
   "id": "d9006034",
   "metadata": {},
   "source": [
    "##  Basic Library imports"
   ]
  },
  {
   "cell_type": "code",
   "execution_count": 2,
   "id": "432e4616",
   "metadata": {},
   "outputs": [],
   "source": [
    "import os\n",
    "import pandas as pd \n",
    "import numpy as np"
   ]
  },
  {
   "cell_type": "markdown",
   "id": "f8811f03",
   "metadata": {},
   "source": [
    "##  Read Dataset"
   ]
  },
  {
   "cell_type": "code",
   "execution_count": 2,
   "id": "15cad5fd",
   "metadata": {},
   "outputs": [],
   "source": [
    "DATASET_FOLDER = '../dataset/'\n",
    "train = pd.read_csv(os.path.join(DATASET_FOLDER, 'train.csv'))\n",
    "test = pd.read_csv(os.path.join(DATASET_FOLDER, 'test.csv'))\n",
    "sample_test = pd.read_csv(os.path.join(DATASET_FOLDER, 'sample_test.csv'))\n",
    "sample_test_out = pd.read_csv(os.path.join(DATASET_FOLDER, 'sample_test_out.csv'))"
   ]
  },
  {
   "cell_type": "code",
   "execution_count": 3,
   "id": "4ae4e0f9",
   "metadata": {},
   "outputs": [
    {
     "name": "stderr",
     "output_type": "stream",
     "text": [
      "100%|██████████| 100/100 [00:09<00:00, 10.23it/s]\n"
     ]
    }
   ],
   "source": [
    "from utils import download_images\n",
    "download_images(sample_test['image_link'], '../images')\n"
   ]
  },
  {
   "cell_type": "code",
   "execution_count": 4,
   "id": "2e1bbc48",
   "metadata": {},
   "outputs": [],
   "source": [
    "assert len(os.listdir('../images')) > 0"
   ]
  },
  {
   "cell_type": "code",
   "execution_count": 5,
   "id": "537ce2f5",
   "metadata": {},
   "outputs": [],
   "source": [
    "rm -rf ../images"
   ]
  },
  {
   "cell_type": "code",
   "execution_count": 7,
   "id": "8e766bc2",
   "metadata": {},
   "outputs": [
    {
     "data": {
      "text/html": [
       "<div>\n",
       "<style scoped>\n",
       "    .dataframe tbody tr th:only-of-type {\n",
       "        vertical-align: middle;\n",
       "    }\n",
       "\n",
       "    .dataframe tbody tr th {\n",
       "        vertical-align: top;\n",
       "    }\n",
       "\n",
       "    .dataframe thead th {\n",
       "        text-align: right;\n",
       "    }\n",
       "</style>\n",
       "<table border=\"1\" class=\"dataframe\">\n",
       "  <thead>\n",
       "    <tr style=\"text-align: right;\">\n",
       "      <th></th>\n",
       "      <th>sample_id</th>\n",
       "      <th>item_name</th>\n",
       "      <th>item_description</th>\n",
       "      <th>item_quantity</th>\n",
       "      <th>unit</th>\n",
       "      <th>image_url</th>\n",
       "      <th>image_path</th>\n",
       "      <th>extracted_text</th>\n",
       "      <th>confidence_score</th>\n",
       "      <th>word_count</th>\n",
       "      <th>status</th>\n",
       "      <th>image_dimensions</th>\n",
       "      <th>catalog_content</th>\n",
       "      <th>price</th>\n",
       "    </tr>\n",
       "  </thead>\n",
       "  <tbody>\n",
       "    <tr>\n",
       "      <th>0</th>\n",
       "      <td>33127</td>\n",
       "      <td>La Victoria Green Taco Sauce Mild, 12 Ounce (P...</td>\n",
       "      <td>Food</td>\n",
       "      <td>72.00</td>\n",
       "      <td>Fl Oz</td>\n",
       "      <td>https://m.media-amazon.com/images/I/51mo8htwTH...</td>\n",
       "      <td>../ocr_output/images/33127_51mo8htwTHL.jpg</td>\n",
       "      <td>NaN</td>\n",
       "      <td>95.000000</td>\n",
       "      <td>0</td>\n",
       "      <td>success</td>\n",
       "      <td>[1000, 1000]</td>\n",
       "      <td>Item Name: La Victoria Green Taco Sauce Mild, ...</td>\n",
       "      <td>4.89</td>\n",
       "    </tr>\n",
       "    <tr>\n",
       "      <th>1</th>\n",
       "      <td>198967</td>\n",
       "      <td>Salerno Cookies, The Original Butter Cookies, ...</td>\n",
       "      <td>Food</td>\n",
       "      <td>32.00</td>\n",
       "      <td>Ounce</td>\n",
       "      <td>https://m.media-amazon.com/images/I/71YtriIHAA...</td>\n",
       "      <td>../ocr_output/images/198967_71YtriIHAAL.jpg</td>\n",
       "      <td>NaN</td>\n",
       "      <td>95.000000</td>\n",
       "      <td>0</td>\n",
       "      <td>success</td>\n",
       "      <td>[1200, 1200]</td>\n",
       "      <td>Item Name: Salerno Cookies, The Original Butte...</td>\n",
       "      <td>13.12</td>\n",
       "    </tr>\n",
       "    <tr>\n",
       "      <th>2</th>\n",
       "      <td>261251</td>\n",
       "      <td>Bear Creek Hearty Soup Bowl, Creamy Chicken wi...</td>\n",
       "      <td>Food</td>\n",
       "      <td>11.40</td>\n",
       "      <td>Ounce</td>\n",
       "      <td>https://m.media-amazon.com/images/I/51+PFEe-w-...</td>\n",
       "      <td>../ocr_output/images/261251_51+PFEe-w-L.jpg</td>\n",
       "      <td>Cickan s Wi hewe 9</td>\n",
       "      <td>63.750000</td>\n",
       "      <td>5</td>\n",
       "      <td>success</td>\n",
       "      <td>[500, 500]</td>\n",
       "      <td>Item Name: Bear Creek Hearty Soup Bowl, Creamy...</td>\n",
       "      <td>1.97</td>\n",
       "    </tr>\n",
       "    <tr>\n",
       "      <th>3</th>\n",
       "      <td>55858</td>\n",
       "      <td>Judee's Blue Cheese Powder 11.25 oz - Gluten-F...</td>\n",
       "      <td>Food</td>\n",
       "      <td>11.25</td>\n",
       "      <td>Ounce</td>\n",
       "      <td>https://m.media-amazon.com/images/I/41mu0HAToD...</td>\n",
       "      <td>../ocr_output/images/55858_41mu0HAToDL.jpg</td>\n",
       "      <td>BLUE\\nCHEESE\\nPOWDER\\n\\n11.25 02</td>\n",
       "      <td>87.166667</td>\n",
       "      <td>5</td>\n",
       "      <td>success</td>\n",
       "      <td>[500, 500]</td>\n",
       "      <td>Item Name: Judee’s Blue Cheese Powder 11.25 oz...</td>\n",
       "      <td>30.34</td>\n",
       "    </tr>\n",
       "    <tr>\n",
       "      <th>4</th>\n",
       "      <td>292686</td>\n",
       "      <td>kedem Sherry Cooking Wine, 12.7 Ounce - 12 per...</td>\n",
       "      <td>Food</td>\n",
       "      <td>12.00</td>\n",
       "      <td>Count</td>\n",
       "      <td>https://m.media-amazon.com/images/I/41sA037+Qv...</td>\n",
       "      <td>../ocr_output/images/292686_41sA037+QvL.jpg</td>\n",
       "      <td>NaN</td>\n",
       "      <td>0.000000</td>\n",
       "      <td>0</td>\n",
       "      <td>success</td>\n",
       "      <td>[1000, 1000]</td>\n",
       "      <td>Item Name: kedem Sherry Cooking Wine, 12.7 Oun...</td>\n",
       "      <td>66.49</td>\n",
       "    </tr>\n",
       "  </tbody>\n",
       "</table>\n",
       "</div>"
      ],
      "text/plain": [
       "   sample_id                                          item_name  \\\n",
       "0      33127  La Victoria Green Taco Sauce Mild, 12 Ounce (P...   \n",
       "1     198967  Salerno Cookies, The Original Butter Cookies, ...   \n",
       "2     261251  Bear Creek Hearty Soup Bowl, Creamy Chicken wi...   \n",
       "3      55858  Judee's Blue Cheese Powder 11.25 oz - Gluten-F...   \n",
       "4     292686  kedem Sherry Cooking Wine, 12.7 Ounce - 12 per...   \n",
       "\n",
       "  item_description  item_quantity   unit  \\\n",
       "0             Food          72.00  Fl Oz   \n",
       "1             Food          32.00  Ounce   \n",
       "2             Food          11.40  Ounce   \n",
       "3             Food          11.25  Ounce   \n",
       "4             Food          12.00  Count   \n",
       "\n",
       "                                           image_url  \\\n",
       "0  https://m.media-amazon.com/images/I/51mo8htwTH...   \n",
       "1  https://m.media-amazon.com/images/I/71YtriIHAA...   \n",
       "2  https://m.media-amazon.com/images/I/51+PFEe-w-...   \n",
       "3  https://m.media-amazon.com/images/I/41mu0HAToD...   \n",
       "4  https://m.media-amazon.com/images/I/41sA037+Qv...   \n",
       "\n",
       "                                    image_path  \\\n",
       "0   ../ocr_output/images/33127_51mo8htwTHL.jpg   \n",
       "1  ../ocr_output/images/198967_71YtriIHAAL.jpg   \n",
       "2  ../ocr_output/images/261251_51+PFEe-w-L.jpg   \n",
       "3   ../ocr_output/images/55858_41mu0HAToDL.jpg   \n",
       "4  ../ocr_output/images/292686_41sA037+QvL.jpg   \n",
       "\n",
       "                     extracted_text  confidence_score  word_count   status  \\\n",
       "0                               NaN         95.000000           0  success   \n",
       "1                               NaN         95.000000           0  success   \n",
       "2                Cickan s Wi hewe 9         63.750000           5  success   \n",
       "3  BLUE\\nCHEESE\\nPOWDER\\n\\n11.25 02         87.166667           5  success   \n",
       "4                               NaN          0.000000           0  success   \n",
       "\n",
       "  image_dimensions                                    catalog_content  price  \n",
       "0     [1000, 1000]  Item Name: La Victoria Green Taco Sauce Mild, ...   4.89  \n",
       "1     [1200, 1200]  Item Name: Salerno Cookies, The Original Butte...  13.12  \n",
       "2       [500, 500]  Item Name: Bear Creek Hearty Soup Bowl, Creamy...   1.97  \n",
       "3       [500, 500]  Item Name: Judee’s Blue Cheese Powder 11.25 oz...  30.34  \n",
       "4     [1000, 1000]  Item Name: kedem Sherry Cooking Wine, 12.7 Oun...  66.49  "
      ]
     },
     "execution_count": 7,
     "metadata": {},
     "output_type": "execute_result"
    }
   ],
   "source": [
    "df = pd.read_csv('/home/ananya/Downloads/68e8d1d70b66d_student_resource/student_resource/combined_dataset/basic_combined_dataset.csv')\n",
    "df.head()"
   ]
  }
 ],
 "metadata": {
  "kernelspec": {
   "display_name": "Python 3",
   "language": "python",
   "name": "python3"
  },
  "language_info": {
   "codemirror_mode": {
    "name": "ipython",
    "version": 3
   },
   "file_extension": ".py",
   "mimetype": "text/x-python",
   "name": "python",
   "nbconvert_exporter": "python",
   "pygments_lexer": "ipython3",
   "version": "3.10.13"
  }
 },
 "nbformat": 4,
 "nbformat_minor": 5
}
