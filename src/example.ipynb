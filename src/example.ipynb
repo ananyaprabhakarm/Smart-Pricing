{
 "cells": [
  {
   "cell_type": "markdown",
   "id": "d9006034",
   "metadata": {},
   "source": [
    "##  Basic Library imports"
   ]
  },
  {
   "cell_type": "code",
   "execution_count": 1,
   "id": "432e4616",
   "metadata": {},
   "outputs": [],
   "source": [
    "import os\n",
    "import pandas as pd \n",
    "import numpy as np"
   ]
  },
  {
   "cell_type": "markdown",
   "id": "f8811f03",
   "metadata": {},
   "source": [
    "##  Read Dataset"
   ]
  },
  {
   "cell_type": "code",
   "execution_count": 2,
   "id": "15cad5fd",
   "metadata": {},
   "outputs": [],
   "source": [
    "DATASET_FOLDER = '../dataset/'\n",
    "train = pd.read_csv(os.path.join(DATASET_FOLDER, 'train.csv'))\n",
    "test = pd.read_csv(os.path.join(DATASET_FOLDER, 'test.csv'))\n",
    "sample_test = pd.read_csv(os.path.join(DATASET_FOLDER, 'sample_test.csv'))\n",
    "sample_test_out = pd.read_csv(os.path.join(DATASET_FOLDER, 'sample_test_out.csv'))"
   ]
  },
  {
   "cell_type": "code",
   "execution_count": 3,
   "id": "4ae4e0f9",
   "metadata": {},
   "outputs": [
    {
     "name": "stderr",
     "output_type": "stream",
     "text": [
      "100%|██████████| 100/100 [00:09<00:00, 10.23it/s]\n"
     ]
    }
   ],
   "source": [
    "from utils import download_images\n",
    "download_images(sample_test['image_link'], '../images')\n"
   ]
  },
  {
   "cell_type": "code",
   "execution_count": 4,
   "id": "2e1bbc48",
   "metadata": {},
   "outputs": [],
   "source": [
    "assert len(os.listdir('../images')) > 0"
   ]
  },
  {
   "cell_type": "code",
   "execution_count": 5,
   "id": "537ce2f5",
   "metadata": {},
   "outputs": [],
   "source": [
    "rm -rf ../images"
   ]
  },
  {
   "cell_type": "code",
   "execution_count": 34,
   "id": "8e766bc2",
   "metadata": {},
   "outputs": [
    {
     "data": {
      "text/plain": [
       "(75000, 3)"
      ]
     },
     "execution_count": 34,
     "metadata": {},
     "output_type": "execute_result"
    }
   ],
   "source": [
    "test.shape"
   ]
  }
 ],
 "metadata": {
  "kernelspec": {
   "display_name": "Python 3",
   "language": "python",
   "name": "python3"
  },
  "language_info": {
   "codemirror_mode": {
    "name": "ipython",
    "version": 3
   },
   "file_extension": ".py",
   "mimetype": "text/x-python",
   "name": "python",
   "nbconvert_exporter": "python",
   "pygments_lexer": "ipython3",
   "version": "3.10.13"
  }
 },
 "nbformat": 4,
 "nbformat_minor": 5
}
